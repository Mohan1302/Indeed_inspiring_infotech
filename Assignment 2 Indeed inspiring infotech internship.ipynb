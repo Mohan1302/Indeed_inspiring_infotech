{
 "cells": [
  {
   "cell_type": "markdown",
   "id": "0a703d28",
   "metadata": {},
   "source": [
    "# Indeed inspiring infotech inernship"
   ]
  },
  {
   "cell_type": "markdown",
   "id": "0eea6dce",
   "metadata": {},
   "source": [
    "# Assignment 2"
   ]
  },
  {
   "cell_type": "markdown",
   "id": "bb33c76e",
   "metadata": {},
   "source": [
    "# Walmart Sales Prediction Using Supervised ML Algorithm"
   ]
  },
  {
   "cell_type": "markdown",
   "id": "3b7ec95f",
   "metadata": {},
   "source": [
    "Author:Mohan Bodake   "
   ]
  },
  {
   "cell_type": "markdown",
   "id": "b7e1ecb7",
   "metadata": {},
   "source": [
    "# Introduction"
   ]
  },
  {
   "cell_type": "markdown",
   "id": "aea3e059",
   "metadata": {},
   "source": [
    "One of the leading retail stores in the US, Walmart, would like to predict the sales and demand accurately. There are certain events and holidays which impact sales on each day. There are sales data available for 45 stores of Walmart. The business is facing a challenge due to unforeseen demands and runs out of stock some times, due to the inappropriate machine learning algorithm. An ideal ML algorithm will predict demand accurately and ingest factors like economic conditions including CPI, Unemployment Index, etc.\n",
    "\n",
    "Walmart runs several promotional markdown events throughout the year. These markdowns precede prominent holidays, the four largest of all, which are the Super Bowl, Labour Day, Thanksgiving, and Christmas. The weeks including these holidays are weighted five times higher in the evaluation than non-holiday weeks. Part of the challenge presented by this competition is modeling the effects of markdowns on these holiday weeks in the absence of complete/ideal historical data. Historical sales data for 45 Walmart stores located in different regions are available."
   ]
  },
  {
   "cell_type": "code",
   "execution_count": 1,
   "id": "d08931eb",
   "metadata": {},
   "outputs": [],
   "source": [
    "import numpy as np\n",
    "import pandas as pd\n",
    "import matplotlib.pyplot as plt\n",
    "import seaborn as sns\n",
    "import sklearn\n",
    "import warnings\n",
    "warnings.filterwarnings('ignore')\n",
    "%matplotlib inline"
   ]
  },
  {
   "cell_type": "code",
   "execution_count": 2,
   "id": "85669a01",
   "metadata": {},
   "outputs": [
    {
     "data": {
      "text/html": [
       "<div>\n",
       "<style scoped>\n",
       "    .dataframe tbody tr th:only-of-type {\n",
       "        vertical-align: middle;\n",
       "    }\n",
       "\n",
       "    .dataframe tbody tr th {\n",
       "        vertical-align: top;\n",
       "    }\n",
       "\n",
       "    .dataframe thead th {\n",
       "        text-align: right;\n",
       "    }\n",
       "</style>\n",
       "<table border=\"1\" class=\"dataframe\">\n",
       "  <thead>\n",
       "    <tr style=\"text-align: right;\">\n",
       "      <th></th>\n",
       "      <th>Store</th>\n",
       "      <th>Date</th>\n",
       "      <th>Weekly_Sales</th>\n",
       "      <th>Holiday_Flag</th>\n",
       "      <th>Temperature</th>\n",
       "      <th>Fuel_Price</th>\n",
       "      <th>CPI</th>\n",
       "      <th>Unemployment</th>\n",
       "    </tr>\n",
       "  </thead>\n",
       "  <tbody>\n",
       "    <tr>\n",
       "      <th>0</th>\n",
       "      <td>1</td>\n",
       "      <td>05-02-2010</td>\n",
       "      <td>1643690.90</td>\n",
       "      <td>0</td>\n",
       "      <td>42.31</td>\n",
       "      <td>2.572</td>\n",
       "      <td>211.096358</td>\n",
       "      <td>8.106</td>\n",
       "    </tr>\n",
       "    <tr>\n",
       "      <th>1</th>\n",
       "      <td>1</td>\n",
       "      <td>12-02-2010</td>\n",
       "      <td>1641957.44</td>\n",
       "      <td>1</td>\n",
       "      <td>38.51</td>\n",
       "      <td>2.548</td>\n",
       "      <td>211.242170</td>\n",
       "      <td>8.106</td>\n",
       "    </tr>\n",
       "    <tr>\n",
       "      <th>2</th>\n",
       "      <td>1</td>\n",
       "      <td>19-02-2010</td>\n",
       "      <td>1611968.17</td>\n",
       "      <td>0</td>\n",
       "      <td>39.93</td>\n",
       "      <td>2.514</td>\n",
       "      <td>211.289143</td>\n",
       "      <td>8.106</td>\n",
       "    </tr>\n",
       "    <tr>\n",
       "      <th>3</th>\n",
       "      <td>1</td>\n",
       "      <td>26-02-2010</td>\n",
       "      <td>1409727.59</td>\n",
       "      <td>0</td>\n",
       "      <td>46.63</td>\n",
       "      <td>2.561</td>\n",
       "      <td>211.319643</td>\n",
       "      <td>8.106</td>\n",
       "    </tr>\n",
       "    <tr>\n",
       "      <th>4</th>\n",
       "      <td>1</td>\n",
       "      <td>05-03-2010</td>\n",
       "      <td>1554806.68</td>\n",
       "      <td>0</td>\n",
       "      <td>46.50</td>\n",
       "      <td>2.625</td>\n",
       "      <td>211.350143</td>\n",
       "      <td>8.106</td>\n",
       "    </tr>\n",
       "  </tbody>\n",
       "</table>\n",
       "</div>"
      ],
      "text/plain": [
       "   Store        Date  Weekly_Sales  Holiday_Flag  Temperature  Fuel_Price  \\\n",
       "0      1  05-02-2010    1643690.90             0        42.31       2.572   \n",
       "1      1  12-02-2010    1641957.44             1        38.51       2.548   \n",
       "2      1  19-02-2010    1611968.17             0        39.93       2.514   \n",
       "3      1  26-02-2010    1409727.59             0        46.63       2.561   \n",
       "4      1  05-03-2010    1554806.68             0        46.50       2.625   \n",
       "\n",
       "          CPI  Unemployment  \n",
       "0  211.096358         8.106  \n",
       "1  211.242170         8.106  \n",
       "2  211.289143         8.106  \n",
       "3  211.319643         8.106  \n",
       "4  211.350143         8.106  "
      ]
     },
     "execution_count": 2,
     "metadata": {},
     "output_type": "execute_result"
    }
   ],
   "source": [
    "df = pd.read_csv(\"D:\\\\indeed inspiring infotech Internship\\\\Walmart_Store_sales.csv\")\n",
    "df.head()\n"
   ]
  },
  {
   "cell_type": "code",
   "execution_count": 3,
   "id": "cfb053f4",
   "metadata": {},
   "outputs": [
    {
     "data": {
      "text/plain": [
       "Store             int64\n",
       "Date             object\n",
       "Weekly_Sales    float64\n",
       "Holiday_Flag      int64\n",
       "Temperature     float64\n",
       "Fuel_Price      float64\n",
       "CPI             float64\n",
       "Unemployment    float64\n",
       "dtype: object"
      ]
     },
     "execution_count": 3,
     "metadata": {},
     "output_type": "execute_result"
    }
   ],
   "source": [
    "df.dtypes"
   ]
  },
  {
   "cell_type": "code",
   "execution_count": 4,
   "id": "db4b0d94",
   "metadata": {},
   "outputs": [],
   "source": [
    "# Changing the date datatype to datetime64\n",
    "\n",
    "from datetime import datetime\n",
    "df['Date'] = pd.to_datetime(df['Date']);"
   ]
  },
  {
   "cell_type": "code",
   "execution_count": 5,
   "id": "63adb237",
   "metadata": {},
   "outputs": [
    {
     "data": {
      "text/plain": [
       "Store                    int64\n",
       "Date            datetime64[ns]\n",
       "Weekly_Sales           float64\n",
       "Holiday_Flag             int64\n",
       "Temperature            float64\n",
       "Fuel_Price             float64\n",
       "CPI                    float64\n",
       "Unemployment           float64\n",
       "dtype: object"
      ]
     },
     "execution_count": 5,
     "metadata": {},
     "output_type": "execute_result"
    }
   ],
   "source": [
    "df.dtypes"
   ]
  },
  {
   "cell_type": "code",
   "execution_count": 6,
   "id": "b44d072f",
   "metadata": {},
   "outputs": [
    {
     "data": {
      "text/html": [
       "<div>\n",
       "<style scoped>\n",
       "    .dataframe tbody tr th:only-of-type {\n",
       "        vertical-align: middle;\n",
       "    }\n",
       "\n",
       "    .dataframe tbody tr th {\n",
       "        vertical-align: top;\n",
       "    }\n",
       "\n",
       "    .dataframe thead th {\n",
       "        text-align: right;\n",
       "    }\n",
       "</style>\n",
       "<table border=\"1\" class=\"dataframe\">\n",
       "  <thead>\n",
       "    <tr style=\"text-align: right;\">\n",
       "      <th></th>\n",
       "      <th>Store</th>\n",
       "      <th>Date</th>\n",
       "      <th>Weekly_Sales</th>\n",
       "      <th>Holiday_Flag</th>\n",
       "      <th>Temperature</th>\n",
       "      <th>Fuel_Price</th>\n",
       "      <th>CPI</th>\n",
       "      <th>Unemployment</th>\n",
       "    </tr>\n",
       "  </thead>\n",
       "  <tbody>\n",
       "    <tr>\n",
       "      <th>0</th>\n",
       "      <td>1</td>\n",
       "      <td>2010-05-02</td>\n",
       "      <td>1643690.90</td>\n",
       "      <td>0</td>\n",
       "      <td>42.31</td>\n",
       "      <td>2.572</td>\n",
       "      <td>211.096358</td>\n",
       "      <td>8.106</td>\n",
       "    </tr>\n",
       "    <tr>\n",
       "      <th>1</th>\n",
       "      <td>1</td>\n",
       "      <td>2010-12-02</td>\n",
       "      <td>1641957.44</td>\n",
       "      <td>1</td>\n",
       "      <td>38.51</td>\n",
       "      <td>2.548</td>\n",
       "      <td>211.242170</td>\n",
       "      <td>8.106</td>\n",
       "    </tr>\n",
       "    <tr>\n",
       "      <th>2</th>\n",
       "      <td>1</td>\n",
       "      <td>2010-02-19</td>\n",
       "      <td>1611968.17</td>\n",
       "      <td>0</td>\n",
       "      <td>39.93</td>\n",
       "      <td>2.514</td>\n",
       "      <td>211.289143</td>\n",
       "      <td>8.106</td>\n",
       "    </tr>\n",
       "    <tr>\n",
       "      <th>3</th>\n",
       "      <td>1</td>\n",
       "      <td>2010-02-26</td>\n",
       "      <td>1409727.59</td>\n",
       "      <td>0</td>\n",
       "      <td>46.63</td>\n",
       "      <td>2.561</td>\n",
       "      <td>211.319643</td>\n",
       "      <td>8.106</td>\n",
       "    </tr>\n",
       "    <tr>\n",
       "      <th>4</th>\n",
       "      <td>1</td>\n",
       "      <td>2010-05-03</td>\n",
       "      <td>1554806.68</td>\n",
       "      <td>0</td>\n",
       "      <td>46.50</td>\n",
       "      <td>2.625</td>\n",
       "      <td>211.350143</td>\n",
       "      <td>8.106</td>\n",
       "    </tr>\n",
       "  </tbody>\n",
       "</table>\n",
       "</div>"
      ],
      "text/plain": [
       "   Store       Date  Weekly_Sales  Holiday_Flag  Temperature  Fuel_Price  \\\n",
       "0      1 2010-05-02    1643690.90             0        42.31       2.572   \n",
       "1      1 2010-12-02    1641957.44             1        38.51       2.548   \n",
       "2      1 2010-02-19    1611968.17             0        39.93       2.514   \n",
       "3      1 2010-02-26    1409727.59             0        46.63       2.561   \n",
       "4      1 2010-05-03    1554806.68             0        46.50       2.625   \n",
       "\n",
       "          CPI  Unemployment  \n",
       "0  211.096358         8.106  \n",
       "1  211.242170         8.106  \n",
       "2  211.289143         8.106  \n",
       "3  211.319643         8.106  \n",
       "4  211.350143         8.106  "
      ]
     },
     "execution_count": 6,
     "metadata": {},
     "output_type": "execute_result"
    }
   ],
   "source": [
    "df.head()\n"
   ]
  },
  {
   "cell_type": "code",
   "execution_count": 16,
   "id": "9d965021",
   "metadata": {},
   "outputs": [
    {
     "data": {
      "text/html": [
       "<div>\n",
       "<style scoped>\n",
       "    .dataframe tbody tr th:only-of-type {\n",
       "        vertical-align: middle;\n",
       "    }\n",
       "\n",
       "    .dataframe tbody tr th {\n",
       "        vertical-align: top;\n",
       "    }\n",
       "\n",
       "    .dataframe thead th {\n",
       "        text-align: right;\n",
       "    }\n",
       "</style>\n",
       "<table border=\"1\" class=\"dataframe\">\n",
       "  <thead>\n",
       "    <tr style=\"text-align: right;\">\n",
       "      <th></th>\n",
       "      <th>Store</th>\n",
       "      <th>Date</th>\n",
       "      <th>Weekly_Sales</th>\n",
       "      <th>Holiday_Flag</th>\n",
       "      <th>Temperature</th>\n",
       "      <th>Fuel_Price</th>\n",
       "      <th>CPI</th>\n",
       "      <th>Unemployment</th>\n",
       "      <th>Day</th>\n",
       "      <th>Month</th>\n",
       "      <th>Year</th>\n",
       "    </tr>\n",
       "  </thead>\n",
       "  <tbody>\n",
       "    <tr>\n",
       "      <th>0</th>\n",
       "      <td>1</td>\n",
       "      <td>2010-05-02</td>\n",
       "      <td>1643690.90</td>\n",
       "      <td>0</td>\n",
       "      <td>42.31</td>\n",
       "      <td>2.572</td>\n",
       "      <td>211.096358</td>\n",
       "      <td>8.106</td>\n",
       "      <td>2</td>\n",
       "      <td>5</td>\n",
       "      <td>2010</td>\n",
       "    </tr>\n",
       "    <tr>\n",
       "      <th>1</th>\n",
       "      <td>1</td>\n",
       "      <td>2010-12-02</td>\n",
       "      <td>1641957.44</td>\n",
       "      <td>1</td>\n",
       "      <td>38.51</td>\n",
       "      <td>2.548</td>\n",
       "      <td>211.242170</td>\n",
       "      <td>8.106</td>\n",
       "      <td>2</td>\n",
       "      <td>12</td>\n",
       "      <td>2010</td>\n",
       "    </tr>\n",
       "    <tr>\n",
       "      <th>2</th>\n",
       "      <td>1</td>\n",
       "      <td>2010-02-19</td>\n",
       "      <td>1611968.17</td>\n",
       "      <td>0</td>\n",
       "      <td>39.93</td>\n",
       "      <td>2.514</td>\n",
       "      <td>211.289143</td>\n",
       "      <td>8.106</td>\n",
       "      <td>19</td>\n",
       "      <td>2</td>\n",
       "      <td>2010</td>\n",
       "    </tr>\n",
       "    <tr>\n",
       "      <th>3</th>\n",
       "      <td>1</td>\n",
       "      <td>2010-02-26</td>\n",
       "      <td>1409727.59</td>\n",
       "      <td>0</td>\n",
       "      <td>46.63</td>\n",
       "      <td>2.561</td>\n",
       "      <td>211.319643</td>\n",
       "      <td>8.106</td>\n",
       "      <td>26</td>\n",
       "      <td>2</td>\n",
       "      <td>2010</td>\n",
       "    </tr>\n",
       "    <tr>\n",
       "      <th>4</th>\n",
       "      <td>1</td>\n",
       "      <td>2010-05-03</td>\n",
       "      <td>1554806.68</td>\n",
       "      <td>0</td>\n",
       "      <td>46.50</td>\n",
       "      <td>2.625</td>\n",
       "      <td>211.350143</td>\n",
       "      <td>8.106</td>\n",
       "      <td>3</td>\n",
       "      <td>5</td>\n",
       "      <td>2010</td>\n",
       "    </tr>\n",
       "  </tbody>\n",
       "</table>\n",
       "</div>"
      ],
      "text/plain": [
       "   Store       Date  Weekly_Sales  Holiday_Flag  Temperature  Fuel_Price  \\\n",
       "0      1 2010-05-02    1643690.90             0        42.31       2.572   \n",
       "1      1 2010-12-02    1641957.44             1        38.51       2.548   \n",
       "2      1 2010-02-19    1611968.17             0        39.93       2.514   \n",
       "3      1 2010-02-26    1409727.59             0        46.63       2.561   \n",
       "4      1 2010-05-03    1554806.68             0        46.50       2.625   \n",
       "\n",
       "          CPI  Unemployment  Day  Month  Year  \n",
       "0  211.096358         8.106    2      5  2010  \n",
       "1  211.242170         8.106    2     12  2010  \n",
       "2  211.289143         8.106   19      2  2010  \n",
       "3  211.319643         8.106   26      2  2010  \n",
       "4  211.350143         8.106    3      5  2010  "
      ]
     },
     "execution_count": 16,
     "metadata": {},
     "output_type": "execute_result"
    }
   ],
   "source": [
    "# adding Day, Month & Year coloumn\n",
    "df['Day'] = pd.DatetimeIndex(df['Date']).day\n",
    "df['Month'] = pd.DatetimeIndex(df['Date']).month\n",
    "df['Year'] = pd.DatetimeIndex(df['Date']).year\n",
    "df.head()"
   ]
  },
  {
   "cell_type": "code",
   "execution_count": 17,
   "id": "49b3d531",
   "metadata": {},
   "outputs": [
    {
     "name": "stdout",
     "output_type": "stream",
     "text": [
      "<class 'pandas.core.frame.DataFrame'>\n",
      "RangeIndex: 6435 entries, 0 to 6434\n",
      "Data columns (total 11 columns):\n",
      " #   Column        Non-Null Count  Dtype         \n",
      "---  ------        --------------  -----         \n",
      " 0   Store         6435 non-null   int64         \n",
      " 1   Date          6435 non-null   datetime64[ns]\n",
      " 2   Weekly_Sales  6435 non-null   float64       \n",
      " 3   Holiday_Flag  6435 non-null   int64         \n",
      " 4   Temperature   6435 non-null   float64       \n",
      " 5   Fuel_Price    6435 non-null   float64       \n",
      " 6   CPI           6435 non-null   float64       \n",
      " 7   Unemployment  6435 non-null   float64       \n",
      " 8   Day           6435 non-null   int64         \n",
      " 9   Month         6435 non-null   int64         \n",
      " 10  Year          6435 non-null   int64         \n",
      "dtypes: datetime64[ns](1), float64(5), int64(5)\n",
      "memory usage: 553.1 KB\n"
     ]
    }
   ],
   "source": [
    "df.info()"
   ]
  },
  {
   "cell_type": "code",
   "execution_count": 18,
   "id": "3500d599",
   "metadata": {},
   "outputs": [
    {
     "data": {
      "text/html": [
       "<div>\n",
       "<style scoped>\n",
       "    .dataframe tbody tr th:only-of-type {\n",
       "        vertical-align: middle;\n",
       "    }\n",
       "\n",
       "    .dataframe tbody tr th {\n",
       "        vertical-align: top;\n",
       "    }\n",
       "\n",
       "    .dataframe thead th {\n",
       "        text-align: right;\n",
       "    }\n",
       "</style>\n",
       "<table border=\"1\" class=\"dataframe\">\n",
       "  <thead>\n",
       "    <tr style=\"text-align: right;\">\n",
       "      <th></th>\n",
       "      <th>count</th>\n",
       "      <th>mean</th>\n",
       "      <th>std</th>\n",
       "      <th>min</th>\n",
       "      <th>25%</th>\n",
       "      <th>50%</th>\n",
       "      <th>75%</th>\n",
       "      <th>max</th>\n",
       "    </tr>\n",
       "  </thead>\n",
       "  <tbody>\n",
       "    <tr>\n",
       "      <th>Store</th>\n",
       "      <td>6435.0</td>\n",
       "      <td>2.300000e+01</td>\n",
       "      <td>12.988182</td>\n",
       "      <td>1.000</td>\n",
       "      <td>12.000</td>\n",
       "      <td>23.000000</td>\n",
       "      <td>3.400000e+01</td>\n",
       "      <td>4.500000e+01</td>\n",
       "    </tr>\n",
       "    <tr>\n",
       "      <th>Weekly_Sales</th>\n",
       "      <td>6435.0</td>\n",
       "      <td>1.046965e+06</td>\n",
       "      <td>564366.622054</td>\n",
       "      <td>209986.250</td>\n",
       "      <td>553350.105</td>\n",
       "      <td>960746.040000</td>\n",
       "      <td>1.420159e+06</td>\n",
       "      <td>3.818686e+06</td>\n",
       "    </tr>\n",
       "    <tr>\n",
       "      <th>Holiday_Flag</th>\n",
       "      <td>6435.0</td>\n",
       "      <td>6.993007e-02</td>\n",
       "      <td>0.255049</td>\n",
       "      <td>0.000</td>\n",
       "      <td>0.000</td>\n",
       "      <td>0.000000</td>\n",
       "      <td>0.000000e+00</td>\n",
       "      <td>1.000000e+00</td>\n",
       "    </tr>\n",
       "    <tr>\n",
       "      <th>Temperature</th>\n",
       "      <td>6435.0</td>\n",
       "      <td>6.066378e+01</td>\n",
       "      <td>18.444933</td>\n",
       "      <td>-2.060</td>\n",
       "      <td>47.460</td>\n",
       "      <td>62.670000</td>\n",
       "      <td>7.494000e+01</td>\n",
       "      <td>1.001400e+02</td>\n",
       "    </tr>\n",
       "    <tr>\n",
       "      <th>Fuel_Price</th>\n",
       "      <td>6435.0</td>\n",
       "      <td>3.358607e+00</td>\n",
       "      <td>0.459020</td>\n",
       "      <td>2.472</td>\n",
       "      <td>2.933</td>\n",
       "      <td>3.445000</td>\n",
       "      <td>3.735000e+00</td>\n",
       "      <td>4.468000e+00</td>\n",
       "    </tr>\n",
       "    <tr>\n",
       "      <th>CPI</th>\n",
       "      <td>6435.0</td>\n",
       "      <td>1.715784e+02</td>\n",
       "      <td>39.356712</td>\n",
       "      <td>126.064</td>\n",
       "      <td>131.735</td>\n",
       "      <td>182.616521</td>\n",
       "      <td>2.127433e+02</td>\n",
       "      <td>2.272328e+02</td>\n",
       "    </tr>\n",
       "    <tr>\n",
       "      <th>Unemployment</th>\n",
       "      <td>6435.0</td>\n",
       "      <td>7.999151e+00</td>\n",
       "      <td>1.875885</td>\n",
       "      <td>3.879</td>\n",
       "      <td>6.891</td>\n",
       "      <td>7.874000</td>\n",
       "      <td>8.622000e+00</td>\n",
       "      <td>1.431300e+01</td>\n",
       "    </tr>\n",
       "    <tr>\n",
       "      <th>Day</th>\n",
       "      <td>6435.0</td>\n",
       "      <td>1.565035e+01</td>\n",
       "      <td>8.753908</td>\n",
       "      <td>1.000</td>\n",
       "      <td>8.000</td>\n",
       "      <td>16.000000</td>\n",
       "      <td>2.300000e+01</td>\n",
       "      <td>3.100000e+01</td>\n",
       "    </tr>\n",
       "    <tr>\n",
       "      <th>Month</th>\n",
       "      <td>6435.0</td>\n",
       "      <td>6.475524e+00</td>\n",
       "      <td>3.321797</td>\n",
       "      <td>1.000</td>\n",
       "      <td>4.000</td>\n",
       "      <td>6.000000</td>\n",
       "      <td>9.000000e+00</td>\n",
       "      <td>1.200000e+01</td>\n",
       "    </tr>\n",
       "    <tr>\n",
       "      <th>Year</th>\n",
       "      <td>6435.0</td>\n",
       "      <td>2.010965e+03</td>\n",
       "      <td>0.797019</td>\n",
       "      <td>2010.000</td>\n",
       "      <td>2010.000</td>\n",
       "      <td>2011.000000</td>\n",
       "      <td>2.012000e+03</td>\n",
       "      <td>2.012000e+03</td>\n",
       "    </tr>\n",
       "  </tbody>\n",
       "</table>\n",
       "</div>"
      ],
      "text/plain": [
       "               count          mean            std         min         25%  \\\n",
       "Store         6435.0  2.300000e+01      12.988182       1.000      12.000   \n",
       "Weekly_Sales  6435.0  1.046965e+06  564366.622054  209986.250  553350.105   \n",
       "Holiday_Flag  6435.0  6.993007e-02       0.255049       0.000       0.000   \n",
       "Temperature   6435.0  6.066378e+01      18.444933      -2.060      47.460   \n",
       "Fuel_Price    6435.0  3.358607e+00       0.459020       2.472       2.933   \n",
       "CPI           6435.0  1.715784e+02      39.356712     126.064     131.735   \n",
       "Unemployment  6435.0  7.999151e+00       1.875885       3.879       6.891   \n",
       "Day           6435.0  1.565035e+01       8.753908       1.000       8.000   \n",
       "Month         6435.0  6.475524e+00       3.321797       1.000       4.000   \n",
       "Year          6435.0  2.010965e+03       0.797019    2010.000    2010.000   \n",
       "\n",
       "                        50%           75%           max  \n",
       "Store             23.000000  3.400000e+01  4.500000e+01  \n",
       "Weekly_Sales  960746.040000  1.420159e+06  3.818686e+06  \n",
       "Holiday_Flag       0.000000  0.000000e+00  1.000000e+00  \n",
       "Temperature       62.670000  7.494000e+01  1.001400e+02  \n",
       "Fuel_Price         3.445000  3.735000e+00  4.468000e+00  \n",
       "CPI              182.616521  2.127433e+02  2.272328e+02  \n",
       "Unemployment       7.874000  8.622000e+00  1.431300e+01  \n",
       "Day               16.000000  2.300000e+01  3.100000e+01  \n",
       "Month              6.000000  9.000000e+00  1.200000e+01  \n",
       "Year            2011.000000  2.012000e+03  2.012000e+03  "
      ]
     },
     "execution_count": 18,
     "metadata": {},
     "output_type": "execute_result"
    }
   ],
   "source": [
    "# Descriptive Statistics\n",
    "\n",
    "df.describe().T"
   ]
  },
  {
   "cell_type": "code",
   "execution_count": 19,
   "id": "fbebac64",
   "metadata": {},
   "outputs": [
    {
     "data": {
      "text/plain": [
       "Store           0\n",
       "Date            0\n",
       "Weekly_Sales    0\n",
       "Holiday_Flag    0\n",
       "Temperature     0\n",
       "Fuel_Price      0\n",
       "CPI             0\n",
       "Unemployment    0\n",
       "Day             0\n",
       "Month           0\n",
       "Year            0\n",
       "dtype: int64"
      ]
     },
     "execution_count": 19,
     "metadata": {},
     "output_type": "execute_result"
    }
   ],
   "source": [
    "df.isnull().sum()\n"
   ]
  },
  {
   "cell_type": "markdown",
   "id": "c0de92f1",
   "metadata": {},
   "source": [
    "# Visualization using Correlation Heatmap"
   ]
  },
  {
   "cell_type": "code",
   "execution_count": 26,
   "id": "0c102d26",
   "metadata": {},
   "outputs": [
    {
     "data": {
      "text/plain": [
       "<function matplotlib.pyplot.show(close=None, block=None)>"
      ]
     },
     "execution_count": 26,
     "metadata": {},
     "output_type": "execute_result"
    },
    {
     "data": {
      "image/png": "[encoded data removed]",
      "text/plain": [
       "<Figure size 864x576 with 2 Axes>"
      ]
     },
     "metadata": {
      "needs_background": "light"
     },
     "output_type": "display_data"
    }
   ],
   "source": [
    "plt.figure(figsize=(12,8))\n",
    "plt.title('Correlation Analysis',color='Red',fontsize=20,pad=40)\n",
    "corr=df.corr()\n",
    "mask=np.triu(np.ones_like(corr,dtype=bool))\n",
    "sns.heatmap(df.corr(),mask=mask,annot=True,linewidth=.5);\n",
    "plt.xticks(rotation=60)\n",
    "plt.yticks(rotation=0)\n",
    "plt.show"
   ]
  },
  {
   "cell_type": "markdown",
   "id": "fa0d5d19",
   "metadata": {},
   "source": [
    "# Model Building"
   ]
  },
  {
   "cell_type": "code",
   "execution_count": 27,
   "id": "2d9dd4d5",
   "metadata": {},
   "outputs": [],
   "source": [
    "# Define Independent and dependent variable\n",
    "x = df[['Store', 'Fuel_Price', 'CPI', 'Unemployment', 'Day', 'Month', 'Year']]\n",
    "y = df['Weekly_Sales']"
   ]
  },
  {
   "cell_type": "code",
   "execution_count": 28,
   "id": "5480bbb6",
   "metadata": {},
   "outputs": [],
   "source": [
    "from sklearn.model_selection import train_test_split\n",
    "x_train, x_test, y_train, y_test = train_test_split(x, y, test_size=0.2)"
   ]
  },
  {
   "cell_type": "code",
   "execution_count": 29,
   "id": "2c22dbe6",
   "metadata": {},
   "outputs": [],
   "source": [
    "from sklearn.preprocessing import StandardScaler\n",
    "sc = StandardScaler()\n",
    "x_train = sc.fit_transform(x_train)\n",
    "x_test = sc.fit_transform(x_test)"
   ]
  },
  {
   "cell_type": "markdown",
   "id": "887a1695",
   "metadata": {},
   "source": [
    "# 1. Linear Regression"
   ]
  },
  {
   "cell_type": "code",
   "execution_count": 30,
   "id": "60925286",
   "metadata": {},
   "outputs": [
    {
     "name": "stdout",
     "output_type": "stream",
     "text": [
      "* Linear Regression *\n",
      "\n",
      "Train Accuracy Score: 14.232 %\n",
      "Test Accuracy Score: 15.540000000000001 %\n",
      "Mean Absolute Error: 420934.779\n",
      "Mean Squared Error: 268884937231.488\n",
      "Root Mean Squared Error: 518541.163\n"
     ]
    },
    {
     "data": {
      "text/plain": [
       "<AxesSubplot:xlabel='Weekly_Sales'>"
      ]
     },
     "execution_count": 30,
     "metadata": {},
     "output_type": "execute_result"
    },
    {
     "data": {
      "image/png": "[encoded data removed]",
      "text/plain": [
       "<Figure size 525x375 with 1 Axes>"
      ]
     },
     "metadata": {
      "needs_background": "light"
     },
     "output_type": "display_data"
    }
   ],
   "source": [
    "# splitting the data\n",
    "from sklearn.model_selection import train_test_split\n",
    "x_train, x_test, y_train, y_test = train_test_split(x, y, test_size=0.2)\n",
    "# importing linear regression\n",
    "from sklearn.linear_model import LinearRegression\n",
    "from sklearn import metrics\n",
    "from sklearn.metrics import r2_score\n",
    "\n",
    "lr = LinearRegression()\n",
    "# model fitting\n",
    "lr.fit(x_train, y_train)\n",
    "lr_y_pred = lr.predict(x_test)\n",
    "\n",
    "print('* Linear Regression *\\n')\n",
    "\n",
    "print('Train Accuracy Score:', lr.score(x_train, y_train).round(5)*100, '%')\n",
    "print('Test Accuracy Score:', r2_score(y_test, lr_y_pred).round(5)*100, '%')\n",
    "\n",
    "print('Mean Absolute Error:', metrics.mean_absolute_error(y_test, lr_y_pred).round(3))\n",
    "print('Mean Squared Error:', metrics.mean_squared_error(y_test, lr_y_pred).round(3))\n",
    "print('Root Mean Squared Error:', np.sqrt(metrics.mean_squared_error(y_test, lr_y_pred)).round(3))\n",
    "\n",
    "plt.figure(figsize=(7,5), dpi=75)\n",
    "sns.regplot(y_test, lr_y_pred)\n"
   ]
  },
  {
   "cell_type": "markdown",
   "id": "9b69beec",
   "metadata": {},
   "source": [
    "# 2.Random Forest Regressor"
   ]
  },
  {
   "cell_type": "code",
   "execution_count": 31,
   "id": "a2ccb463",
   "metadata": {},
   "outputs": [
    {
     "name": "stdout",
     "output_type": "stream",
     "text": [
      "* Random Forest Regressor *\n",
      "\n",
      "Accuracy                 = 75.864 %\n",
      "Mean Absolute Error      = 126587.24323\n",
      "Mean Squared Error       = 76837711641.09322\n",
      "Root Mean Squared Error  = 277196.16094\n"
     ]
    },
    {
     "data": {
      "text/plain": [
       "<AxesSubplot:xlabel='Weekly_Sales'>"
      ]
     },
     "execution_count": 31,
     "metadata": {},
     "output_type": "execute_result"
    },
    {
     "data": {
      "image/png": "[encoded data removed]",
      "text/plain": [
       "<Figure size 525x375 with 1 Axes>"
      ]
     },
     "metadata": {
      "needs_background": "light"
     },
     "output_type": "display_data"
    }
   ],
   "source": [
    "# splitting the data\n",
    "from sklearn.model_selection import train_test_split\n",
    "x_train, x_test, y_train, y_test = train_test_split(x, y, test_size=0.2)\n",
    "# importing random forest regressor\n",
    "from sklearn.ensemble import RandomForestRegressor\n",
    "rfr = RandomForestRegressor()\n",
    "# model fitting\n",
    "rfr.fit(x_train,y_train)\n",
    "\n",
    "rfr_y_pred = rfr.predict(x_test)\n",
    "\n",
    "R2_rfr = r2_score(y_test, rfr_y_pred)\n",
    "mae = metrics.mean_absolute_error(y_test, rfr_y_pred)\n",
    "mse = metrics.mean_squared_error(y_test, rfr_y_pred)\n",
    "rmse = np.sqrt(metrics.mean_squared_error(y_test, rfr_y_pred))\n",
    "\n",
    "print('* Random Forest Regressor *\\n')\n",
    "\n",
    "print('Accuracy                 =', R2_rfr.round(5)*100,'%')\n",
    "print('Mean Absolute Error      =', mae.round(5))\n",
    "print('Mean Squared Error       =', mse.round(5))\n",
    "print('Root Mean Squared Error  =', rmse.round(5))\n",
    "\n",
    "plt.figure(figsize=(7,5), dpi=75)\n",
    "sns.regplot(y_test, rfr_y_pred)"
   ]
  },
  {
   "cell_type": "markdown",
   "id": "3f34901b",
   "metadata": {},
   "source": [
    "# 3.Decision Tree Regressor"
   ]
  },
  {
   "cell_type": "code",
   "execution_count": 32,
   "id": "7ad12c0d",
   "metadata": {},
   "outputs": [
    {
     "name": "stdout",
     "output_type": "stream",
     "text": [
      "* Decision Tree Regressor *\n",
      "\n",
      "Accuracy                 = 71.403 %\n",
      "Mean Absolute Error      = 145765.42245\n",
      "Mean Squared Error       = 91040397697.4949\n",
      "Root Mean Squared Error  = 301729.01368\n"
     ]
    },
    {
     "data": {
      "text/plain": [
       "<AxesSubplot:xlabel='Weekly_Sales'>"
      ]
     },
     "execution_count": 32,
     "metadata": {},
     "output_type": "execute_result"
    },
    {
     "data": {
      "image/png": "[encoded data removed]",
      "text/plain": [
       "<Figure size 525x375 with 1 Axes>"
      ]
     },
     "metadata": {
      "needs_background": "light"
     },
     "output_type": "display_data"
    }
   ],
   "source": [
    "# splitting the data\n",
    "from sklearn.model_selection import train_test_split\n",
    "x_train, x_test, y_train, y_test = train_test_split(x, y, test_size=0.2)\n",
    "# importing decision tree regressor\n",
    "from sklearn.tree import DecisionTreeRegressor\n",
    "dtr = DecisionTreeRegressor()\n",
    "# model fitting\n",
    "dtr.fit(x_train,y_train)\n",
    "dtr_y_pred = dtr.predict(x_test)\n",
    "R2_dtr = r2_score(y_test,dtr_y_pred)\n",
    "mae = metrics.mean_absolute_error(y_test, dtr_y_pred)\n",
    "mse = metrics.mean_squared_error(y_test, dtr_y_pred)\n",
    "rmse = np.sqrt(metrics.mean_squared_error(y_test, dtr_y_pred))\n",
    "print('* Decision Tree Regressor *\\n')\n",
    "print('Accuracy                 =', R2_dtr.round(5)*100,'%')\n",
    "print('Mean Absolute Error      =', mae.round(5))\n",
    "print('Mean Squared Error       =', mse.round(5))\n",
    "print('Root Mean Squared Error  =', rmse.round(5))\n",
    "plt.figure(figsize=(7,5), dpi=75)\n",
    "sns.regplot(y_test, dtr_y_pred)"
   ]
  },
  {
   "cell_type": "markdown",
   "id": "422c11cc",
   "metadata": {},
   "source": [
    "# Cross Validation"
   ]
  },
  {
   "cell_type": "code",
   "execution_count": 33,
   "id": "b887508a",
   "metadata": {},
   "outputs": [],
   "source": [
    "from sklearn.model_selection import cross_val_score"
   ]
  },
  {
   "cell_type": "code",
   "execution_count": 34,
   "id": "8a34256a",
   "metadata": {},
   "outputs": [
    {
     "name": "stdout",
     "output_type": "stream",
     "text": [
      "[0.16013217 0.06731173 0.16204694 0.14003925 0.09611556 0.10395805\n",
      " 0.15775628 0.18686585 0.13948495 0.15455813]\n",
      "Mean Score: 13.682689042307967 %\n"
     ]
    }
   ],
   "source": [
    "# Linear Regression\n",
    "\n",
    "lr_scores = cross_val_score(lr, x_train,y_train, cv=10, scoring='r2')\n",
    "print(lr_scores)\n",
    "print(\"Mean Score:\", lr_scores.mean()*100,'%')"
   ]
  },
  {
   "cell_type": "code",
   "execution_count": 35,
   "id": "cc6f954c",
   "metadata": {},
   "outputs": [
    {
     "name": "stdout",
     "output_type": "stream",
     "text": [
      "[0.93921328 0.95305622 0.96529514 0.96541641 0.95317039 0.94878667\n",
      " 0.96442826 0.95981946 0.95440614 0.94087711]\n",
      "Mean Score: 95.44469077265626 %\n"
     ]
    }
   ],
   "source": [
    "# Random Forest Regression\n",
    "\n",
    "rfr_scores = cross_val_score(rfr, x_train,y_train, cv=10, scoring='r2')\n",
    "print(rfr_scores)\n",
    "print(\"Mean Score:\", rfr_scores.mean()*100,'%')"
   ]
  },
  {
   "cell_type": "code",
   "execution_count": 36,
   "id": "2b6b7db3",
   "metadata": {},
   "outputs": [
    {
     "name": "stdout",
     "output_type": "stream",
     "text": [
      "[0.91206655 0.91377404 0.94012638 0.94013416 0.90817614 0.91149207\n",
      " 0.94065421 0.94092029 0.9277704  0.91780994]\n",
      "Mean Score: 92.52924170217514 %\n"
     ]
    }
   ],
   "source": [
    "# Decision Tree Regression\n",
    "\n",
    "dtr_scores = cross_val_score(dtr, x_train,y_train, cv=10, scoring='r2')\n",
    "print(dtr_scores)\n",
    "print(\"Mean Score:\", dtr_scores.mean()*100,'%')"
   ]
  },
  {
   "cell_type": "markdown",
   "id": "2d48d208",
   "metadata": {},
   "source": [
    "# Conclussion"
   ]
  },
  {
   "cell_type": "markdown",
   "id": "5a9947bd",
   "metadata": {},
   "source": [
    "Here, we have used 3 different algorithms to know which model to use to predict the weekly sales. Linear Regression is not an appropriate model to use as accuracy is very low. However, Random Forest Regression gives accuracy of 95% . so, it is the best model to forecast weekly sales."
   ]
  },
  {
   "cell_type": "code",
   "execution_count": null,
   "id": "08df3b29",
   "metadata": {},
   "outputs": [],
   "source": []
  }
 ],
 "metadata": {
  "kernelspec": {
   "display_name": "Python 3 (ipykernel)",
   "language": "python",
   "name": "python3"
  },
  "language_info": {
   "codemirror_mode": {
    "name": "ipython",
    "version": 3
   },
   "file_extension": ".py",
   "mimetype": "text/x-python",
   "name": "python",
   "nbconvert_exporter": "python",
   "pygments_lexer": "ipython3",
   "version": "3.9.7"
  }
 },
 "nbformat": 4,
 "nbformat_minor": 5
}
